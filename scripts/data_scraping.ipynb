{
 "cells": [
  {
   "cell_type": "markdown",
   "metadata": {},
   "source": [
    "## Scraping the required data\n",
    "In this file we have scraped the data from http://www.howstat.com/ and then saved it in a data folder with name ODI_Players_runs.csv"
   ]
  },
  {
   "cell_type": "code",
   "execution_count": 1,
   "metadata": {},
   "outputs": [],
   "source": [
    "#importing required libraries\n",
    "\n",
    "import requests             \n",
    "from bs4 import BeautifulSoup   \n",
    "import csv\n",
    "from tqdm import tqdm_notebook as tqdm"
   ]
  },
  {
   "cell_type": "code",
   "execution_count": 6,
   "metadata": {},
   "outputs": [],
   "source": [
    "#list of header values\n",
    "l = [str(i) for i in range(1970,2020)]\n",
    "l.insert(0,'Name')"
   ]
  },
  {
   "cell_type": "code",
   "execution_count": 3,
   "metadata": {},
   "outputs": [],
   "source": [
    "#Creating csv file with header\n",
    "f = open(\"data/ODI_Players_runs.csv\", \"w\")\n",
    "writer = csv.DictWriter(f, fieldnames=l)\n",
    "writer.writeheader()"
   ]
  },
  {
   "cell_type": "code",
   "execution_count": 4,
   "metadata": {},
   "outputs": [
    {
     "data": {
      "application/vnd.jupyter.widget-view+json": {
       "model_id": "6471acd3777d4df89b1add2744dd33db",
       "version_major": 2,
       "version_minor": 0
      },
      "text/plain": [
       "HBox(children=(IntProgress(value=0, max=5200), HTML(value='')))"
      ]
     },
     "metadata": {},
     "output_type": "display_data"
    },
    {
     "name": "stdout",
     "output_type": "stream",
     "text": [
      "\n"
     ]
    }
   ],
   "source": [
    "#data scraping and saving\n",
    "for i in tqdm(range(5200)):\n",
    "    if(i<10):\n",
    "        url = 'http://www.howstat.com/cricket/Statistics/Players/PlayerYears_ODI.asp?PlayerID=000'+str(i)\n",
    "    elif(i<100):\n",
    "        url = 'http://www.howstat.com/cricket/Statistics/Players/PlayerYears_ODI.asp?PlayerID=00'+str(i)\n",
    "    elif(i<1000):\n",
    "        url = 'http://www.howstat.com/cricket/Statistics/Players/PlayerYears_ODI.asp?PlayerID=0'+str(i)\n",
    "    else:\n",
    "        url = 'http://www.howstat.com/cricket/Statistics/Players/PlayerYears_ODI.asp?PlayerID='+str(i)\n",
    "        \n",
    "    response = requests.get(url)\n",
    "    soup = BeautifulSoup(response.text,'html.parser')\n",
    "    \n",
    "    try:\n",
    "        name = soup.find('td',{'class':'Banner2'}).text\n",
    "        player_list = ['name']\n",
    "        d = {}\n",
    "        d[\"Name\"] = name.strip()\n",
    "        table = soup.find('table',{'class':'TableLined'})\n",
    "        tr = table.find_all('tr')\n",
    "        for i in range(1,len(tr)-1):\n",
    "            td = tr[i].find_all('td')\n",
    "            year = td[0].text.strip()\n",
    "            runs = td[8].text.strip()\n",
    "            #print(\"Name : \",name,\"Year : \",year,\"  runs : \",runs)\n",
    "            d[year] = runs\n",
    "        \n",
    "        writer.writerow(d)\n",
    "        \n",
    "    except:\n",
    "        continue"
   ]
  },
  {
   "cell_type": "code",
   "execution_count": 5,
   "metadata": {},
   "outputs": [],
   "source": [
    "#closing csv file connetions\n",
    "f.close()"
   ]
  }
 ],
 "metadata": {
  "kernelspec": {
   "display_name": "Python 3",
   "language": "python",
   "name": "python3"
  },
  "language_info": {
   "codemirror_mode": {
    "name": "ipython",
    "version": 3
   },
   "file_extension": ".py",
   "mimetype": "text/x-python",
   "name": "python",
   "nbconvert_exporter": "python",
   "pygments_lexer": "ipython3",
   "version": "3.6.7"
  }
 },
 "nbformat": 4,
 "nbformat_minor": 2
}
